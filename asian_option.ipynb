{
  "nbformat": 4,
  "nbformat_minor": 0,
  "metadata": {
    "colab": {
      "provenance": [],
      "authorship_tag": "ABX9TyOIxoZS7L5YN0cIj2dKnH5t",
      "include_colab_link": true
    },
    "kernelspec": {
      "name": "python3",
      "display_name": "Python 3"
    },
    "language_info": {
      "name": "python"
    }
  },
  "cells": [
    {
      "cell_type": "markdown",
      "metadata": {
        "id": "view-in-github",
        "colab_type": "text"
      },
      "source": [
        "<a href=\"https://colab.research.google.com/github/newmantic/asian_option/blob/main/asian_option.ipynb\" target=\"_parent\"><img src=\"https://colab.research.google.com/assets/colab-badge.svg\" alt=\"Open In Colab\"/></a>"
      ]
    },
    {
      "cell_type": "code",
      "execution_count": 1,
      "metadata": {
        "colab": {
          "base_uri": "https://localhost:8080/"
        },
        "id": "5uZihMvld5R4",
        "outputId": "5a08ac56-8b80-429d-bae5-0862153dcf73"
      },
      "outputs": [
        {
          "output_type": "stream",
          "name": "stdout",
          "text": [
            "Payoff for Average Price Call Option: 0.60\n",
            "Payoff for Average Strike Put Option: 0.00\n"
          ]
        }
      ],
      "source": [
        "import numpy as np\n",
        "\n",
        "class AsianOption:\n",
        "    def __init__(self, option_type, strike_price, is_call=True):\n",
        "        \"\"\"\n",
        "        Initializes the Asian Option.\n",
        "\n",
        "        :param option_type: 'average_price' or 'average_strike'\n",
        "        :param strike_price: The strike price of the option\n",
        "        :param is_call: True for Call option, False for Put option\n",
        "        \"\"\"\n",
        "        self.option_type = option_type\n",
        "        self.strike_price = strike_price\n",
        "        self.is_call = is_call\n",
        "\n",
        "    def calculate_average_price(self, price_path):\n",
        "        \"\"\"\n",
        "        Calculates the average price of the underlying asset over the price path.\n",
        "\n",
        "        :param price_path: A list or array of prices\n",
        "        :return: The average price\n",
        "        \"\"\"\n",
        "        return np.mean(price_path)\n",
        "\n",
        "    def calculate_payoff(self, price_path):\n",
        "        \"\"\"\n",
        "        Calculates the payoff of the Asian option.\n",
        "\n",
        "        :param price_path: A list or array of prices\n",
        "        :return: The payoff amount\n",
        "        \"\"\"\n",
        "        average_price = self.calculate_average_price(price_path)\n",
        "\n",
        "        if self.option_type == 'average_price':\n",
        "            if self.is_call:\n",
        "                return max(average_price - self.strike_price, 0)\n",
        "            else:\n",
        "                return max(self.strike_price - average_price, 0)\n",
        "        elif self.option_type == 'average_strike':\n",
        "            average_strike = average_price\n",
        "            if self.is_call:\n",
        "                return max(price_path[-1] - average_strike, 0)\n",
        "            else:\n",
        "                return max(average_strike - price_path[-1], 0)\n",
        "        else:\n",
        "            raise ValueError(\"Invalid option type. Use 'average_price' or 'average_strike'.\")\n",
        "\n",
        "# Example usage\n",
        "if __name__ == \"__main__\":\n",
        "    # Simulated price path (e.g., daily prices over a period)\n",
        "    price_path = np.array([100, 102, 101, 103, 105, 104, 106, 108, 107, 110])\n",
        "\n",
        "    # Example 1: Average Price Call Option\n",
        "    option1 = AsianOption(\n",
        "        option_type='average_price',\n",
        "        strike_price=104,\n",
        "        is_call=True\n",
        "    )\n",
        "    payoff1 = option1.calculate_payoff(price_path)\n",
        "    print(f\"Payoff for Average Price Call Option: {payoff1:.2f}\")\n",
        "\n",
        "    # Example 2: Average Strike Put Option\n",
        "    option2 = AsianOption(\n",
        "        option_type='average_strike',\n",
        "        strike_price=0,  # Strike price is irrelevant for average strike options\n",
        "        is_call=False\n",
        "    )\n",
        "    payoff2 = option2.calculate_payoff(price_path)\n",
        "    print(f\"Payoff for Average Strike Put Option: {payoff2:.2f}\")"
      ]
    }
  ]
}